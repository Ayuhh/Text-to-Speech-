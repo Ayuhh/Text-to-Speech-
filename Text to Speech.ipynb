{
 "cells": [
  {
   "cell_type": "code",
   "execution_count": null,
   "metadata": {},
   "outputs": [
    {
     "name": "stdout",
     "output_type": "stream",
     "text": [
      "--> hello rishabh\n",
      "[<pyttsx3.voice.Voice object at 0x000001CB7338CA20>, <pyttsx3.voice.Voice object at 0x000001CB7338CA58>]\n",
      "--> or bhai ki hal hai\n",
      "[<pyttsx3.voice.Voice object at 0x000001CB7338CA20>, <pyttsx3.voice.Voice object at 0x000001CB7338CA58>]\n"
     ]
    }
   ],
   "source": [
    "import pyttsx3\n",
    "import engineio\n",
    "\n",
    "engineio = pyttsx3.init()\n",
    "voices = engineio.getProperty('voices')\n",
    "engineio.setProperty('rate', 150)    \n",
    "engineio.setProperty('voice',voices[0].id)\n",
    "\n",
    "def speak(text):\n",
    "    engineio.say(text)\n",
    "    engineio.runAndWait()\n",
    "\n",
    "speak(\"What do you want me to say?\")\n",
    "while(1):\n",
    "    phrase = input(\"--> \")\n",
    "    if (phrase == \"exit\"):\n",
    "        exit(0)\n",
    "        break\n",
    "    speak(phrase)\n",
    "    print(voices)"
   ]
  }
 ],
 "metadata": {
  "kernelspec": {
   "display_name": "Python 3",
   "language": "python",
   "name": "python3"
  },
  "language_info": {
   "codemirror_mode": {
    "name": "ipython",
    "version": 3
   },
   "file_extension": ".py",
   "mimetype": "text/x-python",
   "name": "python",
   "nbconvert_exporter": "python",
   "pygments_lexer": "ipython3",
   "version": "3.7.1"
  }
 },
 "nbformat": 4,
 "nbformat_minor": 2
}
